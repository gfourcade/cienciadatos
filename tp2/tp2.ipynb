{
 "cells": [
  {
   "cell_type": "code",
   "execution_count": 2,
   "metadata": {
    "collapsed": true,
    "deletable": true,
    "editable": true,
    "scrolled": true
   },
   "outputs": [],
   "source": [
    "import pandas as pd\n",
    "import seaborn as sns\n",
    "from scipy import signal\n",
    "from scipy.io import loadmat\n",
    "import matplotlib.pyplot as plt\n",
    "import numpy as np"
   ]
  },
  {
   "cell_type": "code",
   "execution_count": 3,
   "metadata": {
    "collapsed": false,
    "deletable": true,
    "editable": true
   },
   "outputs": [
    {
     "ename": "FileNotFoundError",
     "evalue": "[Errno 2] No such file or directory: 'data/S06.mat'",
     "output_type": "error",
     "traceback": [
      "\u001b[0;31m---------------------------------------------------------------------------\u001b[0m",
      "\u001b[0;31mFileNotFoundError\u001b[0m                         Traceback (most recent call last)",
      "\u001b[0;32m<ipython-input-3-3f2d921d57e1>\u001b[0m in \u001b[0;36m<module>\u001b[0;34m()\u001b[0m\n\u001b[0;32m----> 1\u001b[0;31m \u001b[0mmat\u001b[0m \u001b[0;34m=\u001b[0m \u001b[0mloadmat\u001b[0m\u001b[0;34m(\u001b[0m\u001b[0;34m'data/S06.mat'\u001b[0m\u001b[0;34m)\u001b[0m\u001b[0;34m\u001b[0m\u001b[0m\n\u001b[0m\u001b[1;32m      2\u001b[0m \u001b[0mpanel\u001b[0m \u001b[0;34m=\u001b[0m \u001b[0mpd\u001b[0m\u001b[0;34m.\u001b[0m\u001b[0mPanel\u001b[0m\u001b[0;34m(\u001b[0m\u001b[0mmat\u001b[0m\u001b[0;34m[\u001b[0m\u001b[0;34m'data'\u001b[0m\u001b[0;34m]\u001b[0m\u001b[0;34m)\u001b[0m\u001b[0;34m\u001b[0m\u001b[0m\n\u001b[1;32m      3\u001b[0m ''' Item axis: Epoch\n\u001b[1;32m      4\u001b[0m     \u001b[0mMajor\u001b[0m \u001b[0maxis\u001b[0m\u001b[0;34m:\u001b[0m \u001b[0mElectrode\u001b[0m\u001b[0;34m\u001b[0m\u001b[0m\n\u001b[1;32m      5\u001b[0m     Minor axis: Sample '''\n",
      "\u001b[0;32m/home/alpamayo/.local/lib/python3.5/site-packages/scipy/io/matlab/mio.py\u001b[0m in \u001b[0;36mloadmat\u001b[0;34m(file_name, mdict, appendmat, **kwargs)\u001b[0m\n\u001b[1;32m    133\u001b[0m     \"\"\"\n\u001b[1;32m    134\u001b[0m     \u001b[0mvariable_names\u001b[0m \u001b[0;34m=\u001b[0m \u001b[0mkwargs\u001b[0m\u001b[0;34m.\u001b[0m\u001b[0mpop\u001b[0m\u001b[0;34m(\u001b[0m\u001b[0;34m'variable_names'\u001b[0m\u001b[0;34m,\u001b[0m \u001b[0;32mNone\u001b[0m\u001b[0;34m)\u001b[0m\u001b[0;34m\u001b[0m\u001b[0m\n\u001b[0;32m--> 135\u001b[0;31m     \u001b[0mMR\u001b[0m \u001b[0;34m=\u001b[0m \u001b[0mmat_reader_factory\u001b[0m\u001b[0;34m(\u001b[0m\u001b[0mfile_name\u001b[0m\u001b[0;34m,\u001b[0m \u001b[0mappendmat\u001b[0m\u001b[0;34m,\u001b[0m \u001b[0;34m**\u001b[0m\u001b[0mkwargs\u001b[0m\u001b[0;34m)\u001b[0m\u001b[0;34m\u001b[0m\u001b[0m\n\u001b[0m\u001b[1;32m    136\u001b[0m     \u001b[0mmatfile_dict\u001b[0m \u001b[0;34m=\u001b[0m \u001b[0mMR\u001b[0m\u001b[0;34m.\u001b[0m\u001b[0mget_variables\u001b[0m\u001b[0;34m(\u001b[0m\u001b[0mvariable_names\u001b[0m\u001b[0;34m)\u001b[0m\u001b[0;34m\u001b[0m\u001b[0m\n\u001b[1;32m    137\u001b[0m     \u001b[0;32mif\u001b[0m \u001b[0mmdict\u001b[0m \u001b[0;32mis\u001b[0m \u001b[0;32mnot\u001b[0m \u001b[0;32mNone\u001b[0m\u001b[0;34m:\u001b[0m\u001b[0;34m\u001b[0m\u001b[0m\n",
      "\u001b[0;32m/home/alpamayo/.local/lib/python3.5/site-packages/scipy/io/matlab/mio.py\u001b[0m in \u001b[0;36mmat_reader_factory\u001b[0;34m(file_name, appendmat, **kwargs)\u001b[0m\n\u001b[1;32m     56\u001b[0m        \u001b[0mtype\u001b[0m \u001b[0mdetected\u001b[0m \u001b[0;32min\u001b[0m\u001b[0;31m \u001b[0m\u001b[0;31m`\u001b[0m\u001b[0mfilename\u001b[0m\u001b[0;31m`\u001b[0m\u001b[0;34m.\u001b[0m\u001b[0;34m\u001b[0m\u001b[0m\n\u001b[1;32m     57\u001b[0m     \"\"\"\n\u001b[0;32m---> 58\u001b[0;31m     \u001b[0mbyte_stream\u001b[0m \u001b[0;34m=\u001b[0m \u001b[0m_open_file\u001b[0m\u001b[0;34m(\u001b[0m\u001b[0mfile_name\u001b[0m\u001b[0;34m,\u001b[0m \u001b[0mappendmat\u001b[0m\u001b[0;34m)\u001b[0m\u001b[0;34m\u001b[0m\u001b[0m\n\u001b[0m\u001b[1;32m     59\u001b[0m     \u001b[0mmjv\u001b[0m\u001b[0;34m,\u001b[0m \u001b[0mmnv\u001b[0m \u001b[0;34m=\u001b[0m \u001b[0mget_matfile_version\u001b[0m\u001b[0;34m(\u001b[0m\u001b[0mbyte_stream\u001b[0m\u001b[0;34m)\u001b[0m\u001b[0;34m\u001b[0m\u001b[0m\n\u001b[1;32m     60\u001b[0m     \u001b[0;32mif\u001b[0m \u001b[0mmjv\u001b[0m \u001b[0;34m==\u001b[0m \u001b[0;36m0\u001b[0m\u001b[0;34m:\u001b[0m\u001b[0;34m\u001b[0m\u001b[0m\n",
      "\u001b[0;32m/home/alpamayo/.local/lib/python3.5/site-packages/scipy/io/matlab/mio.py\u001b[0m in \u001b[0;36m_open_file\u001b[0;34m(file_like, appendmat)\u001b[0m\n\u001b[1;32m     21\u001b[0m     \u001b[0;32mif\u001b[0m \u001b[0misinstance\u001b[0m\u001b[0;34m(\u001b[0m\u001b[0mfile_like\u001b[0m\u001b[0;34m,\u001b[0m \u001b[0mstring_types\u001b[0m\u001b[0;34m)\u001b[0m\u001b[0;34m:\u001b[0m\u001b[0;34m\u001b[0m\u001b[0m\n\u001b[1;32m     22\u001b[0m         \u001b[0;32mtry\u001b[0m\u001b[0;34m:\u001b[0m\u001b[0;34m\u001b[0m\u001b[0m\n\u001b[0;32m---> 23\u001b[0;31m             \u001b[0;32mreturn\u001b[0m \u001b[0mopen\u001b[0m\u001b[0;34m(\u001b[0m\u001b[0mfile_like\u001b[0m\u001b[0;34m,\u001b[0m \u001b[0;34m'rb'\u001b[0m\u001b[0;34m)\u001b[0m\u001b[0;34m\u001b[0m\u001b[0m\n\u001b[0m\u001b[1;32m     24\u001b[0m         \u001b[0;32mexcept\u001b[0m \u001b[0mIOError\u001b[0m \u001b[0;32mas\u001b[0m \u001b[0me\u001b[0m\u001b[0;34m:\u001b[0m\u001b[0;34m\u001b[0m\u001b[0m\n\u001b[1;32m     25\u001b[0m             \u001b[0;32mif\u001b[0m \u001b[0mappendmat\u001b[0m \u001b[0;32mand\u001b[0m \u001b[0;32mnot\u001b[0m \u001b[0mfile_like\u001b[0m\u001b[0;34m.\u001b[0m\u001b[0mendswith\u001b[0m\u001b[0;34m(\u001b[0m\u001b[0;34m'.mat'\u001b[0m\u001b[0;34m)\u001b[0m\u001b[0;34m:\u001b[0m\u001b[0;34m\u001b[0m\u001b[0m\n",
      "\u001b[0;31mFileNotFoundError\u001b[0m: [Errno 2] No such file or directory: 'data/S06.mat'"
     ]
    }
   ],
   "source": [
    "mat = loadmat('data/S06.mat')\n",
    "panel = pd.Panel(mat['data'])\n",
    "''' Item axis: Epoch\n",
    "    Major axis: Electrode\n",
    "    Minor axis: Sample '''\n",
    "panel"
   ]
  },
  {
   "cell_type": "code",
   "execution_count": null,
   "metadata": {
    "collapsed": true,
    "deletable": true,
    "editable": true,
    "scrolled": false
   },
   "outputs": [],
   "source": [
    "FREQ = 250 # Hz\n",
    "ALPHA_RELEVANT_ELECTRODES = [8,44,80,131,185]\n",
    "\n",
    "def plot_electrode(x):\n",
    "    plt.plot(np.linspace(-200,600,201), x, alpha=0.5)\n",
    "\n",
    "def plot_welch(x):\n",
    "    f, power = signal.welch(x, fs=FREQ, nperseg=len(x), nfft=2048)\n",
    "    plt.plot(f, power, '-')\n",
    "    #plt.yscale('log')\n",
    "    plt.xlim(-2,45)\n",
    "    plt.xlabel('Frecuencia [Hz]')\n",
    "    plt.ylabel('PSD [V^2/Hz]')"
   ]
  },
  {
   "cell_type": "markdown",
   "metadata": {
    "deletable": true,
    "editable": true
   },
   "source": [
    "# Un solo Epoch"
   ]
  },
  {
   "cell_type": "code",
   "execution_count": null,
   "metadata": {
    "collapsed": false,
    "deletable": true,
    "editable": true
   },
   "outputs": [],
   "source": [
    "for electrode in ALPHA_RELEVANT_ELECTRODES:\n",
    "    plot_electrode(panel[0,electrode])\n",
    "plt.show()\n",
    "\n",
    "plt.figure(figsize=(13, 8))\n",
    "for electrode in ALPHA_RELEVANT_ELECTRODES:\n",
    "    plot_welch(panel[0,electrode])\n",
    "plt.show()"
   ]
  },
  {
   "cell_type": "markdown",
   "metadata": {
    "deletable": true,
    "editable": true
   },
   "source": [
    "# Promedio entre Epochs"
   ]
  },
  {
   "cell_type": "code",
   "execution_count": null,
   "metadata": {
    "collapsed": false,
    "deletable": true,
    "editable": true
   },
   "outputs": [],
   "source": [
    "def mean_between_epochs(panel):\n",
    "    return panel.mean(0)\n",
    "\n",
    "mean_df = mean_between_epochs(panel).T\n",
    "\n",
    "for electrode in ALPHA_RELEVANT_ELECTRODES:\n",
    "    plot_electrode(mean_df[electrode])\n",
    "plt.show()\n",
    "\n",
    "plt.figure(figsize=(13, 8))\n",
    "for electrode in ALPHA_RELEVANT_ELECTRODES:\n",
    "    plot_welch(mean_df[electrode])\n",
    "plt.show()\n"
   ]
  },
  {
   "cell_type": "code",
   "execution_count": null,
   "metadata": {
    "collapsed": true,
    "deletable": true,
    "editable": true
   },
   "outputs": [],
   "source": [
    "def mean_between_electrodes(panel, electrodes):\n",
    "    return panel[:,electrodes].mean(1)\n",
    "\n",
    "def fourier_per_epoch(panel, electrodes):\n",
    "    samples_per_epoch = mean_between_electrodes(panel, electrodes)\n",
    "    relevant_frecuencies = 38\n",
    "    res = []\n",
    "    for _, samples in samples_per_epoch.iteritems():\n",
    "        frequencies, powers = signal.welch(samples, FREQ, nperseg=len(samples))\n",
    "        res.append(powers[:relevant_frecuencies])\n",
    "    return np.asarray(res), frequencies[:relevant_frecuencies]\n",
    "\n",
    "spectrogram_alpha, frequencies_alpha = fourier_per_epoch(panel, ALPHA_RELEVANT_ELECTRODES)\n",
    "#spectrogram_all, frequencies_all = fourier_per_epoch(panel, range(256))"
   ]
  },
  {
   "cell_type": "code",
   "execution_count": null,
   "metadata": {
    "collapsed": false,
    "deletable": true,
    "editable": true,
    "scrolled": false
   },
   "outputs": [],
   "source": [
    "def plot_spectrogram(spectrogram, frequencies):\n",
    "    spectrogram = spectrogram.T\n",
    "    plt.figure(figsize=(13, 8))\n",
    "    ax = sns.heatmap(spectrogram, \n",
    "                     xticklabels=100, yticklabels=frequencies.round(2), \n",
    "                     #cbar_kws=('PSD [V**2/Hz]'),\n",
    "                     vmin=0.1e-11, vmax=1e-11, \n",
    "                     #center=1.5e-11,\n",
    "                     cmap='YlGnBu_r'\n",
    "                     )\n",
    "    plt.title('Promedios de potencia de frecuencias de varios electrodos [V^2/Hz]')\n",
    "    plt.xlabel('Epoch')\n",
    "    plt.ylabel('Frequency (Hz)')\n",
    "    plt.show()\n",
    "\n",
    "plot_spectrogram(spectrogram_alpha, frequencies_alpha)"
   ]
  },
  {
   "cell_type": "markdown",
   "metadata": {
    "deletable": true,
    "editable": true
   },
   "source": [
    "# Categorizamos las frecuencias según su tipo"
   ]
  },
  {
   "cell_type": "code",
   "execution_count": null,
   "metadata": {
    "collapsed": true,
    "deletable": true,
    "editable": true
   },
   "outputs": [],
   "source": [
    "def mean_power_per_frequency_range(panel):\n",
    "    mean_samples = panel.mean(0).mean(0)\n",
    "\n",
    "    def belongs(frequency_range, frequency):\n",
    "        return frequency_range[0] <= frequency < frequency_range[1]\n",
    "\n",
    "    frequencies, power = signal.welch(mean_samples, fs=FREQ, nperseg=len(mean_samples), nfft=2048)\n",
    "    #plt.plot(frequencies, power)\n",
    "    #plt.show()\n",
    "    limits = {'delta': (0,4), 'tita': (4,8), 'alpha': (8,13), 'beta': (13,30), 'gamma': (30, 45)}\n",
    "    values_by_range = {'delta':[], 'tita':[], 'alpha':[], 'beta':[], 'gamma':[]}\n",
    "\n",
    "    for f, p in zip(frequencies, power):\n",
    "        for key, limit in limits.items():\n",
    "            if belongs(limit, f):\n",
    "                values_by_range[key].append(p)\n",
    "\n",
    "    return {key: np.mean(value) for key, value in values_by_range.items()}"
   ]
  },
  {
   "cell_type": "code",
   "execution_count": null,
   "metadata": {
    "collapsed": false,
    "deletable": true,
    "editable": true,
    "scrolled": true
   },
   "outputs": [],
   "source": [
    "import gc\n",
    "from os import listdir\n",
    "from os.path import isfile, join\n",
    "onlyfiles = [f for f in listdir('data') if (f.endswith('.mat') and f.startswith('S'))]\n",
    "\n",
    "powers_per_frequency_range_S = []\n",
    "df = {}\n",
    "for filename in onlyfiles:\n",
    "    mat = loadmat(join('data', filename))\n",
    "    panel = pd.Panel(mat['data'])\n",
    "    mean = mean_power_per_frequency_range(panel)\n",
    "    df[filename, 'S'] = mean\n",
    "    #mean['type'] = 'S'\n",
    "    powers_per_frequency_range_S.append(mean)\n",
    "    del mat\n",
    "    del panel\n",
    "    gc.collect()\n",
    "pd.DataFrame(df)"
   ]
  },
  {
   "cell_type": "code",
   "execution_count": null,
   "metadata": {
    "collapsed": false,
    "deletable": true,
    "editable": true
   },
   "outputs": [],
   "source": [
    "onlyfiles = [f for f in listdir('data') if (f.endswith('.mat') and f.startswith('P'))]\n",
    "powers_per_frequency_range_P = []\n",
    "df = {}\n",
    "for filename in onlyfiles:\n",
    "    mat = loadmat(join('data', filename))\n",
    "    panel = pd.Panel(mat['data'])\n",
    "    mean = mean_power_per_frequency_range(panel)\n",
    "    #print(mean)\n",
    "    df[filename,'P'] = mean\n",
    "    #mean['type'] = 'P'\n",
    "    powers_per_frequency_range_P.append(mean)\n",
    "    del mat\n",
    "    del panel\n",
    "    gc.collect()\n",
    "pd.DataFrame(df)"
   ]
  },
  {
   "cell_type": "code",
   "execution_count": null,
   "metadata": {
    "collapsed": false,
    "deletable": true,
    "editable": true,
    "scrolled": false
   },
   "outputs": [],
   "source": [
    "dS = pd.DataFrame(powers_per_frequency_range_S)\n",
    "dP = pd.DataFrame(powers_per_frequency_range_P)\n",
    "data = pd.concat([dS,dP])\n",
    "print(data.shape)\n",
    "print(data)\n",
    "\n",
    "data = data.rename_axis(\"patient\", axis=0)\n",
    "data = data.rename_axis(\"band\", axis=1)\n",
    "\n",
    "\n",
    "ax = sns.stripplot(data=data, \n",
    "                   vmin=data.min().min(), \n",
    "                   vmax=data.max().max()\n",
    "                  )\n",
    "#ax.set_yscale('log')\n",
    "plt.title('Distribution per band')\n",
    "plt.show()\n",
    "\n",
    "df = data\n",
    "df_norm = (df - df.min().min()) / (df.max().max() - df.min().min())\n",
    "ax = sns.stripplot(data=df_norm, \n",
    "                   vmin=df_norm.min(), \n",
    "                   vmax=df_norm.max() \n",
    "                  )\n",
    "#ax.set_yscale('log')\n",
    "plt.title('Distribution per band - Normalized')\n",
    "plt.show()\n",
    "\n",
    "\n",
    "df = data\n",
    "df_norm = ( (df - df.min() ) / (df.max() - df.min()) )\n",
    "ax = sns.stripplot(data=df_norm,\n",
    "                   jitter=True,\n",
    "                   vmin=df_norm.min().min(), \n",
    "                   vmax=df_norm.max().max() \n",
    "                  )\n",
    "#ax.set_yscale('log')\n",
    "plt.title('Distribution per band - Normalized by column')\n",
    "plt.show()\n",
    "\n",
    "# TODO: separar S y P en subcolumnas"
   ]
  },
  {
   "cell_type": "markdown",
   "metadata": {
    "deletable": true,
    "editable": true
   },
   "source": [
    "## Realizamos todos los gráficos categóricos.\n",
    "#### En ROJO los S, en AZUL los P.\n",
    "Versión normalizados."
   ]
  },
  {
   "cell_type": "markdown",
   "metadata": {
    "deletable": true,
    "editable": true
   },
   "source": [
    "### Stripplot"
   ]
  },
  {
   "cell_type": "code",
   "execution_count": null,
   "metadata": {
    "collapsed": false,
    "deletable": true,
    "editable": true
   },
   "outputs": [],
   "source": [
    "df_norm = (df - df.min().min()) / (df.max().max() - df.min().min())\n",
    "ax = sns.stripplot(data=df_norm[:10],\n",
    "                   color=\"r\",\n",
    "                   vmin=df_norm.min(), \n",
    "                   vmax=df_norm.max() \n",
    "                  )\n",
    "ax = sns.stripplot(data=df_norm[10:],\n",
    "                   color=\"b\",\n",
    "                   vmin=df_norm.min(), \n",
    "                   vmax=df_norm.max() \n",
    "                  )\n",
    "#ax.set_yscale('log')\n",
    "plt.title('Distribution per band - Normalized')\n",
    "plt.show()"
   ]
  },
  {
   "cell_type": "markdown",
   "metadata": {
    "deletable": true,
    "editable": true
   },
   "source": [
    "### Violin Plot"
   ]
  },
  {
   "cell_type": "code",
   "execution_count": null,
   "metadata": {
    "collapsed": false,
    "deletable": true,
    "editable": true
   },
   "outputs": [],
   "source": [
    "df_norm = (df - df.min().min()) / (df.max().max() - df.min().min())\n",
    "ax = sns.violinplot(data=df_norm[:10],\n",
    "                   color=\"r\",\n",
    "                   vmin=df_norm.min(), \n",
    "                   vmax=df_norm.max() \n",
    "                  )\n",
    "ax = sns.violinplot(data=df_norm[10:],\n",
    "                   color=\"b\",\n",
    "                   vmin=df_norm.min(), \n",
    "                   vmax=df_norm.max() \n",
    "                  )\n",
    "#ax.set_yscale('log')\n",
    "plt.title('Distribution per band - Normalized')\n",
    "plt.show()"
   ]
  },
  {
   "cell_type": "markdown",
   "metadata": {
    "deletable": true,
    "editable": true
   },
   "source": [
    "### Bar Plot"
   ]
  },
  {
   "cell_type": "code",
   "execution_count": null,
   "metadata": {
    "collapsed": true,
    "deletable": true,
    "editable": true
   },
   "outputs": [],
   "source": [
    "df_norm = (df - df.min().min()) / (df.max().max() - df.min().min())\n",
    "ax = sns.barplot(data=df_norm[:10],\n",
    "                   color=\"r\",\n",
    "                   vmin=df_norm.min(), \n",
    "                   vmax=df_norm.max() \n",
    "                  )\n",
    "ax = sns.barplot(data=df_norm[10:],\n",
    "                   color=\"b\",\n",
    "                   vmin=df_norm.min(), \n",
    "                   vmax=df_norm.max() \n",
    "                  )\n",
    "#ax.set_yscale('log')\n",
    "plt.title('Distribution per band - Normalized')\n",
    "plt.show()"
   ]
  },
  {
   "cell_type": "markdown",
   "metadata": {
    "deletable": true,
    "editable": true
   },
   "source": [
    "### SwarmPlot"
   ]
  },
  {
   "cell_type": "code",
   "execution_count": null,
   "metadata": {
    "collapsed": false,
    "deletable": true,
    "editable": true
   },
   "outputs": [],
   "source": [
    "ax = sns.swarmplot(data=df_norm[:10],\n",
    "                   color=\"r\",\n",
    "                   vmin=df_norm.min(), \n",
    "                   vmax=df_norm.max() \n",
    "                  )\n",
    "ax = sns.swarmplot(data=df_norm[10:],\n",
    "                   color=\"b\",\n",
    "                   vmin=df_norm.min(), \n",
    "                   vmax=df_norm.max() \n",
    "                  )\n",
    "#ax.set_yscale('log')\n",
    "plt.title('Distribution per band - Normalized')\n",
    "plt.show()"
   ]
  },
  {
   "cell_type": "markdown",
   "metadata": {
    "collapsed": true,
    "deletable": true,
    "editable": true
   },
   "source": [
    "### BoxPlot"
   ]
  },
  {
   "cell_type": "code",
   "execution_count": null,
   "metadata": {
    "collapsed": false,
    "deletable": true,
    "editable": true
   },
   "outputs": [],
   "source": [
    "ax = sns.boxplot(data=df_norm[:10],\n",
    "                   color=\"r\",\n",
    "                   vmin=df_norm.min(), \n",
    "                   vmax=df_norm.max() \n",
    "                  )\n",
    "ax = sns.boxplot(data=df_norm[10:],\n",
    "                   color=\"b\",\n",
    "                   vmin=df_norm.min(), \n",
    "                   vmax=df_norm.max() \n",
    "                  )\n",
    "#ax.set_yscale('log')\n",
    "plt.title('Distribution per band - Normalized')\n",
    "plt.show()"
   ]
  },
  {
   "cell_type": "markdown",
   "metadata": {
    "deletable": true,
    "editable": true
   },
   "source": [
    "### Point Plot"
   ]
  },
  {
   "cell_type": "code",
   "execution_count": null,
   "metadata": {
    "collapsed": false,
    "deletable": true,
    "editable": true
   },
   "outputs": [],
   "source": [
    "ax = sns.pointplot(data=df_norm[:10],\n",
    "                   color=\"r\",\n",
    "                   vmin=df_norm.min(), \n",
    "                   vmax=df_norm.max() \n",
    "                  )\n",
    "ax = sns.pointplot(data=df_norm[10:],\n",
    "                   color=\"b\",\n",
    "                   vmin=df_norm.min(), \n",
    "                   vmax=df_norm.max() \n",
    "                  )\n",
    "#ax.set_yscale('log')\n",
    "plt.title('Distribution per band - Normalized')\n",
    "plt.show()"
   ]
  },
  {
   "cell_type": "markdown",
   "metadata": {
    "deletable": true,
    "editable": true
   },
   "source": [
    "## Gráficos categóricos\n",
    "\n",
    "Elegimos usar de ahora en adelante el violin plot, ya que da un buen resúmen de la distribución de nuestros datos para cada categoría. "
   ]
  },
  {
   "cell_type": "markdown",
   "metadata": {
    "collapsed": true,
    "deletable": true,
    "editable": true
   },
   "source": [
    "## Análisis de información (intra-electrodo)"
   ]
  },
  {
   "cell_type": "code",
   "execution_count": 4,
   "metadata": {
    "collapsed": false,
    "deletable": true,
    "editable": true
   },
   "outputs": [
    {
     "ename": "FileNotFoundError",
     "evalue": "[Errno 2] No such file or directory: 'data/S06.mat'",
     "output_type": "error",
     "traceback": [
      "\u001b[0;31m---------------------------------------------------------------------------\u001b[0m",
      "\u001b[0;31mFileNotFoundError\u001b[0m                         Traceback (most recent call last)",
      "\u001b[0;32m<ipython-input-4-8471fbb213cb>\u001b[0m in \u001b[0;36m<module>\u001b[0;34m()\u001b[0m\n\u001b[1;32m      5\u001b[0m \u001b[0mgc\u001b[0m\u001b[0;34m.\u001b[0m\u001b[0mcollect\u001b[0m\u001b[0;34m(\u001b[0m\u001b[0;34m)\u001b[0m\u001b[0;34m\u001b[0m\u001b[0m\n\u001b[1;32m      6\u001b[0m \u001b[0;34m\u001b[0m\u001b[0m\n\u001b[0;32m----> 7\u001b[0;31m \u001b[0mmat\u001b[0m \u001b[0;34m=\u001b[0m \u001b[0mloadmat\u001b[0m\u001b[0;34m(\u001b[0m\u001b[0;34m'data/S06.mat'\u001b[0m\u001b[0;34m)\u001b[0m\u001b[0;34m\u001b[0m\u001b[0m\n\u001b[0m\u001b[1;32m      8\u001b[0m \u001b[0mpanel\u001b[0m \u001b[0;34m=\u001b[0m \u001b[0mpd\u001b[0m\u001b[0;34m.\u001b[0m\u001b[0mPanel\u001b[0m\u001b[0;34m(\u001b[0m\u001b[0mmat\u001b[0m\u001b[0;34m[\u001b[0m\u001b[0;34m'data'\u001b[0m\u001b[0;34m]\u001b[0m\u001b[0;34m)\u001b[0m\u001b[0;34m\u001b[0m\u001b[0m\n\u001b[1;32m      9\u001b[0m ''' Item axis: Epoch\n",
      "\u001b[0;32m/home/alpamayo/.local/lib/python3.5/site-packages/scipy/io/matlab/mio.py\u001b[0m in \u001b[0;36mloadmat\u001b[0;34m(file_name, mdict, appendmat, **kwargs)\u001b[0m\n\u001b[1;32m    133\u001b[0m     \"\"\"\n\u001b[1;32m    134\u001b[0m     \u001b[0mvariable_names\u001b[0m \u001b[0;34m=\u001b[0m \u001b[0mkwargs\u001b[0m\u001b[0;34m.\u001b[0m\u001b[0mpop\u001b[0m\u001b[0;34m(\u001b[0m\u001b[0;34m'variable_names'\u001b[0m\u001b[0;34m,\u001b[0m \u001b[0;32mNone\u001b[0m\u001b[0;34m)\u001b[0m\u001b[0;34m\u001b[0m\u001b[0m\n\u001b[0;32m--> 135\u001b[0;31m     \u001b[0mMR\u001b[0m \u001b[0;34m=\u001b[0m \u001b[0mmat_reader_factory\u001b[0m\u001b[0;34m(\u001b[0m\u001b[0mfile_name\u001b[0m\u001b[0;34m,\u001b[0m \u001b[0mappendmat\u001b[0m\u001b[0;34m,\u001b[0m \u001b[0;34m**\u001b[0m\u001b[0mkwargs\u001b[0m\u001b[0;34m)\u001b[0m\u001b[0;34m\u001b[0m\u001b[0m\n\u001b[0m\u001b[1;32m    136\u001b[0m     \u001b[0mmatfile_dict\u001b[0m \u001b[0;34m=\u001b[0m \u001b[0mMR\u001b[0m\u001b[0;34m.\u001b[0m\u001b[0mget_variables\u001b[0m\u001b[0;34m(\u001b[0m\u001b[0mvariable_names\u001b[0m\u001b[0;34m)\u001b[0m\u001b[0;34m\u001b[0m\u001b[0m\n\u001b[1;32m    137\u001b[0m     \u001b[0;32mif\u001b[0m \u001b[0mmdict\u001b[0m \u001b[0;32mis\u001b[0m \u001b[0;32mnot\u001b[0m \u001b[0;32mNone\u001b[0m\u001b[0;34m:\u001b[0m\u001b[0;34m\u001b[0m\u001b[0m\n",
      "\u001b[0;32m/home/alpamayo/.local/lib/python3.5/site-packages/scipy/io/matlab/mio.py\u001b[0m in \u001b[0;36mmat_reader_factory\u001b[0;34m(file_name, appendmat, **kwargs)\u001b[0m\n\u001b[1;32m     56\u001b[0m        \u001b[0mtype\u001b[0m \u001b[0mdetected\u001b[0m \u001b[0;32min\u001b[0m\u001b[0;31m \u001b[0m\u001b[0;31m`\u001b[0m\u001b[0mfilename\u001b[0m\u001b[0;31m`\u001b[0m\u001b[0;34m.\u001b[0m\u001b[0;34m\u001b[0m\u001b[0m\n\u001b[1;32m     57\u001b[0m     \"\"\"\n\u001b[0;32m---> 58\u001b[0;31m     \u001b[0mbyte_stream\u001b[0m \u001b[0;34m=\u001b[0m \u001b[0m_open_file\u001b[0m\u001b[0;34m(\u001b[0m\u001b[0mfile_name\u001b[0m\u001b[0;34m,\u001b[0m \u001b[0mappendmat\u001b[0m\u001b[0;34m)\u001b[0m\u001b[0;34m\u001b[0m\u001b[0m\n\u001b[0m\u001b[1;32m     59\u001b[0m     \u001b[0mmjv\u001b[0m\u001b[0;34m,\u001b[0m \u001b[0mmnv\u001b[0m \u001b[0;34m=\u001b[0m \u001b[0mget_matfile_version\u001b[0m\u001b[0;34m(\u001b[0m\u001b[0mbyte_stream\u001b[0m\u001b[0;34m)\u001b[0m\u001b[0;34m\u001b[0m\u001b[0m\n\u001b[1;32m     60\u001b[0m     \u001b[0;32mif\u001b[0m \u001b[0mmjv\u001b[0m \u001b[0;34m==\u001b[0m \u001b[0;36m0\u001b[0m\u001b[0;34m:\u001b[0m\u001b[0;34m\u001b[0m\u001b[0m\n",
      "\u001b[0;32m/home/alpamayo/.local/lib/python3.5/site-packages/scipy/io/matlab/mio.py\u001b[0m in \u001b[0;36m_open_file\u001b[0;34m(file_like, appendmat)\u001b[0m\n\u001b[1;32m     21\u001b[0m     \u001b[0;32mif\u001b[0m \u001b[0misinstance\u001b[0m\u001b[0;34m(\u001b[0m\u001b[0mfile_like\u001b[0m\u001b[0;34m,\u001b[0m \u001b[0mstring_types\u001b[0m\u001b[0;34m)\u001b[0m\u001b[0;34m:\u001b[0m\u001b[0;34m\u001b[0m\u001b[0m\n\u001b[1;32m     22\u001b[0m         \u001b[0;32mtry\u001b[0m\u001b[0;34m:\u001b[0m\u001b[0;34m\u001b[0m\u001b[0m\n\u001b[0;32m---> 23\u001b[0;31m             \u001b[0;32mreturn\u001b[0m \u001b[0mopen\u001b[0m\u001b[0;34m(\u001b[0m\u001b[0mfile_like\u001b[0m\u001b[0;34m,\u001b[0m \u001b[0;34m'rb'\u001b[0m\u001b[0;34m)\u001b[0m\u001b[0;34m\u001b[0m\u001b[0m\n\u001b[0m\u001b[1;32m     24\u001b[0m         \u001b[0;32mexcept\u001b[0m \u001b[0mIOError\u001b[0m \u001b[0;32mas\u001b[0m \u001b[0me\u001b[0m\u001b[0;34m:\u001b[0m\u001b[0;34m\u001b[0m\u001b[0m\n\u001b[1;32m     25\u001b[0m             \u001b[0;32mif\u001b[0m \u001b[0mappendmat\u001b[0m \u001b[0;32mand\u001b[0m \u001b[0;32mnot\u001b[0m \u001b[0mfile_like\u001b[0m\u001b[0;34m.\u001b[0m\u001b[0mendswith\u001b[0m\u001b[0;34m(\u001b[0m\u001b[0;34m'.mat'\u001b[0m\u001b[0;34m)\u001b[0m\u001b[0;34m:\u001b[0m\u001b[0;34m\u001b[0m\u001b[0m\n",
      "\u001b[0;31mFileNotFoundError\u001b[0m: [Errno 2] No such file or directory: 'data/S06.mat'"
     ]
    }
   ],
   "source": [
    "from scipy.io import loadmat\n",
    "import pandas as pd\n",
    "\n",
    "import gc\n",
    "gc.collect()\n",
    "\n",
    "mat = loadmat('data/S06.mat')\n",
    "panel = pd.Panel(mat['data'])\n",
    "''' Item axis: Epoch\n",
    "    Major axis: Electrode\n",
    "    Minor axis: Sample '''\n",
    "min_ = panel.min().min().min()\n",
    "max_ = panel.max().max().max()\n",
    "bins = np.linspace(min_, max_, 100)\n",
    "\n",
    "print(bins)"
   ]
  },
  {
   "cell_type": "code",
   "execution_count": null,
   "metadata": {
    "collapsed": true,
    "deletable": true,
    "editable": true
   },
   "outputs": [],
   "source": [
    "# a) Computar una medida de información intra-electrodo. Calcular la media entre canales y epochs para cada sujeto. Realizar el gráfico elegido en el punto c) de la sección anterior, acompañado del test estadístico apropiado.\n",
    "\n",
    "import scipy.stats\n",
    "from collections import defaultdict\n",
    "import numpy as np\n",
    "\n",
    "import gc\n",
    "gc.collect()\n",
    "\n",
    "def compute_entropy(series):\n",
    "    histogram, _ = np.histogram(series, bins)\n",
    "    probabilities = [frecuency/len(series) for frecuency in histogram]\n",
    "    return scipy.stats.entropy(probabilities)\n",
    "\n",
    "def compute_entropies_for_subject(panel):\n",
    "    n_epochs, n_electrodes, n_measures = panel.shape\n",
    "    entropies = defaultdict(dict)\n",
    "    for epoch in range(n_epochs):\n",
    "        for electrode in range(n_electrodes):\n",
    "            electrode_data = panel[epoch, electrode]\n",
    "            entropy = compute_entropy(electrode_data)\n",
    "            entropies[epoch][electrode] = entropy\n",
    "    return pd.DataFrame(entropies)"
   ]
  },
  {
   "cell_type": "code",
   "execution_count": null,
   "metadata": {
    "collapsed": false,
    "deletable": true,
    "editable": true
   },
   "outputs": [],
   "source": [
    "import matplotlib.pyplot as plt\n",
    "\n",
    "def mean_between_epochs(df):\n",
    "    return df.mean(0)\n",
    "def mean_between_electrodes(df):\n",
    "    return df.mean(1)\n",
    "\n",
    "def plot_histograms_for_subject(entropies):\n",
    "    # Promediamos por electrodos, obtenemos histograma por epochs\n",
    "    mean_epochs = mean_between_epochs(entropies)\n",
    "    print(mean_epochs.shape)\n",
    "    mean_epochs.hist(bins=100)\n",
    "    plt.axvline(mean_epochs.mean(), color='r')\n",
    "    plt.xlim(0.7,1.7)\n",
    "    plt.show()\n",
    "    \n",
    "    # Promediamos por epochs, obtenemos histograma por electrodos\n",
    "    mean_electrodes = mean_between_electrodes(entropies)\n",
    "    print(mean_electrodes.shape)\n",
    "    mean_electrodes.hist(bins=100)\n",
    "    plt.axvline(mean_electrodes.mean(), color='r')\n",
    "    plt.xlim(0.7,1.7)\n",
    "    plt.show()\n",
    "\n",
    "def subject_global_mean(entropies):\n",
    "    return entropies.mean().mean()\n",
    "\n",
    "entropies = compute_entropies_for_subject(panel)\n",
    "plot_histograms_for_subject(entropies)"
   ]
  },
  {
   "cell_type": "code",
   "execution_count": null,
   "metadata": {
    "collapsed": false,
    "deletable": true,
    "editable": true
   },
   "outputs": [],
   "source": [
    "from os import listdir\n",
    "from os.path import join\n",
    "\n",
    "files_S = [f for f in listdir('data') if (f.endswith('.mat') and f.startswith('S'))]\n",
    "files_P = [f for f in listdir('data') if (f.endswith('.mat') and f.startswith('P'))]\n",
    "global_means_for_S = []\n",
    "global_means_for_P = []\n",
    "\n",
    "for filename in files_S:\n",
    "    mat = loadmat(join('data', filename))\n",
    "    panel = pd.Panel(mat['data'])\n",
    "    entropies = compute_entropies_for_subject(panel)\n",
    "    global_mean = subject_global_mean(entropies)\n",
    "    print(\"Subject: {}, Entropy: {}\".format(filename, global_mean))\n",
    "    global_means_for_S.append(global_mean)\n",
    "    del mat\n",
    "    del panel\n",
    "    gc.collect()\n",
    "    \n",
    "for filename in files_P:\n",
    "    mat = loadmat(join('data', filename))\n",
    "    panel = pd.Panel(mat['data'])\n",
    "    entropies = compute_entropies_for_subject(panel)\n",
    "    global_mean = subject_global_mean(entropies)\n",
    "    print(\"Subject: {}, Entropy: {}\".format(filename, global_mean))\n",
    "    global_means_for_P.append(global_mean)\n",
    "    del mat\n",
    "    del panel\n",
    "    gc.collect()"
   ]
  },
  {
   "cell_type": "code",
   "execution_count": null,
   "metadata": {
    "collapsed": true,
    "deletable": true,
    "editable": true
   },
   "outputs": [],
   "source": [
    "plt.hist(global_means_for_S)\n",
    "plt.hist(global_means_for_P)\n",
    "plt.show()"
   ]
  },
  {
   "cell_type": "markdown",
   "metadata": {
    "deletable": true,
    "editable": true
   },
   "source": [
    "## Análisis de información (inter-electrodo)"
   ]
  },
  {
   "cell_type": "code",
   "execution_count": null,
   "metadata": {
    "collapsed": false,
    "deletable": true,
    "editable": true,
    "scrolled": false
   },
   "outputs": [],
   "source": [
    "import itertools\n",
    "from functools import reduce\n",
    "\n",
    "# TODO: revisar el bins global\n",
    "\n",
    "def joint_entropy(signal_1, signal_2):\n",
    "    _, bins_1 = np.histogram(signal_1, bins)\n",
    "    _, bins_2 = np.histogram(signal_2, bins)\n",
    "    \n",
    "    signal_1 = np.digitize(signal_1, bins_1)\n",
    "    signal_2 = np.digitize(signal_2, bins_2)\n",
    "    \n",
    "    signal = list(zip(signal_1, signal_2))\n",
    "    probabilities = [signal.count(s) / len(signal) for s in signal]\n",
    "    return scipy.stats.entropy(probabilities)\n",
    "    \n",
    "\n",
    "def inter_electrode_analysis(panel, epoch, electrode_1, electrode_2):\n",
    "    signal_1 = panel[epoch, electrode_1]\n",
    "    signal_2 = panel[epoch, electrode_2]\n",
    "    return joint_entropy(signal_1, signal_2)\n",
    "\n",
    "inter_electrode_analysis(panel, 0, 8, 24)"
   ]
  },
  {
   "cell_type": "code",
   "execution_count": null,
   "metadata": {
    "collapsed": true,
    "deletable": true,
    "editable": true
   },
   "outputs": [],
   "source": [
    "from itertools import combinations\n",
    "ALPHA_RELEVANT_ELECTRODES = [8,44,80,131,185]\n",
    "\n",
    "def joint_entropy_for_subject(panel):\n",
    "    entropies = []\n",
    "    n_epochs, n_electrodes, n_measures = panel.shape\n",
    "    for epoch in range(n_epochs):\n",
    "        for combination in combinations(ALPHA_RELEVANT_ELECTRODES, 2):\n",
    "            entropies.append(inter_electrode_analysis(panel, epoch, *combination))\n",
    "    return pd.DataFrame(entropies)\n",
    "\n",
    "def plot_histogram_for_joint_entropies(entropies):\n",
    "    entropies.hist()\n",
    "    plt.show()\n",
    "    \n",
    "def mean_of_entropies(entropies):\n",
    "    return entropies.mean()\n",
    "\n",
    "panel = pd.Panel(loadmat('data/P01.mat')['data'])\n",
    "entropies = joint_entropy_for_subject(panel)\n",
    "print(entropies)\n",
    "plot_histograms_for_subject(entropies)\n",
    "mean_of_entropies(entropies)"
   ]
  },
  {
   "cell_type": "code",
   "execution_count": null,
   "metadata": {
    "collapsed": true,
    "deletable": true,
    "editable": true
   },
   "outputs": [],
   "source": [
    "from os import listdir\n",
    "from os.path import join\n",
    "\n",
    "files_S = [f for f in listdir('data') if (f.endswith('.mat') and f.startswith('S'))]\n",
    "files_P = [f for f in listdir('data') if (f.endswith('.mat') and f.startswith('P'))]\n",
    "global_means_for_S = []\n",
    "global_means_for_P = []\n",
    "\n",
    "for filename in files_S:\n",
    "    mat = loadmat(join('data', filename))\n",
    "    panel = pd.Panel(mat['data'])\n",
    "    entropies = joint_entropy_for_subject(panel)\n",
    "    global_mean = mean_of_entropies(entropies)\n",
    "    print(\"Subject: {}, Entropy: {}\".format(filename, global_mean))\n",
    "    global_means_for_S.append(global_mean)\n",
    "    del mat\n",
    "    del panel\n",
    "    gc.collect()\n",
    "    \n",
    "for filename in files_P:\n",
    "    mat = loadmat(join('data', filename))\n",
    "    panel = pd.Panel(mat['data'])\n",
    "    entropies = joint_entropy_for_subject(panel)\n",
    "    global_mean = mean_of_entropies(entropies)\n",
    "    print(\"Subject: {}, Entropy: {}\".format(filename, global_mean))\n",
    "    global_means_for_P.append(global_mean)\n",
    "    del mat\n",
    "    del panel\n",
    "    gc.collect()"
   ]
  }
 ],
 "metadata": {
  "kernelspec": {
   "display_name": "Python 3",
   "language": "python",
   "name": "python3"
  },
  "language_info": {
   "codemirror_mode": {
    "name": "ipython",
    "version": 3
   },
   "file_extension": ".py",
   "mimetype": "text/x-python",
   "name": "python",
   "nbconvert_exporter": "python",
   "pygments_lexer": "ipython3",
   "version": "3.5.3"
  }
 },
 "nbformat": 4,
 "nbformat_minor": 1
}
