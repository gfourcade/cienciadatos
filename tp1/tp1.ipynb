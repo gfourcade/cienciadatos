{
 "cells": [
  {
   "cell_type": "code",
   "execution_count": 27,
   "metadata": {
    "collapsed": false,
    "deletable": true,
    "editable": true
   },
   "outputs": [
    {
     "name": "stdout",
     "output_type": "stream",
     "text": [
      "[[ 11.1  11.3  19.4]\n",
      " [ 13.   12.8  18.2]\n",
      " [ 16.1  16.   19. ]\n",
      " [ 14.5  14.1  18.9]\n",
      " [ 12.   12.5  19.1]\n",
      " [ 11.   11.6  18.7]\n",
      " [ 15.1  14.6  18.9]\n",
      " [ 14.4  14.2  19.9]\n",
      " [ 16.1  16.1  18.5]\n",
      " [ 17.   16.7  19.2]\n",
      " [ 12.2  12.4  18.8]\n",
      " [ 14.4  14.1  19.2]]\n"
     ]
    }
   ],
   "source": [
    "import numpy as np\n",
    "import matplotlib.pyplot as plt\n",
    "import seaborn as sns\n",
    "from scipy import stats\n",
    "import random as random\n",
    "\n",
    "datos = np.loadtxt('tiempos.txt', skiprows=1)\n",
    "\n",
    "datos = datos[:,1:]  # Soleado | Nublado | Lluvia\n",
    "datos[6,2] = 18.9    # Corregimos dato mal ingresado.\n",
    "print (datos)\n",
    "\n",
    "I_SOLEADO, I_NUBLADO, I_LLUVIA = range(3)"
   ]
  },
  {
   "cell_type": "code",
   "execution_count": 3,
   "metadata": {
    "collapsed": false,
    "deletable": true,
    "editable": true,
    "scrolled": false
   },
   "outputs": [
    {
     "data": {
      "image/png": "[encoded data removed]",
      "text/plain": [
       "<matplotlib.figure.Figure at 0x7f47c4c8d8d0>"
      ]
     },
     "metadata": {},
     "output_type": "display_data"
    },
    {
     "data": {
      "image/png": "[encoded data removed]",
      "text/plain": [
       "<matplotlib.figure.Figure at 0x7f479154b748>"
      ]
     },
     "metadata": {},
     "output_type": "display_data"
    }
   ],
   "source": [
    "plt.plot(datos, 'o')\n",
    "plt.show()\n",
    "\n",
    "plt.hist(datos)\n",
    "plt.show()"
   ]
  },
  {
   "cell_type": "markdown",
   "metadata": {
    "deletable": true,
    "editable": true
   },
   "source": [
    "### Test de t\n",
    "Los datos vienen de forma |Soleado|Nublado|Lluvia|\n",
    "\n",
    "- Los atletas son más lentos en dı́as de lluvia que en dı́as soleados.\n",
    "\n",
    "Primer Test.\n",
    "Suponemos como hipótesis nula que los tiempos de los atletas tienen menor o igual media si está Lluvioso que si está Soleado"
   ]
  },
  {
   "cell_type": "code",
   "execution_count": 4,
   "metadata": {
    "collapsed": false,
    "deletable": true,
    "editable": true
   },
   "outputs": [
    {
     "data": {
      "text/plain": [
       "(-8.576227572594302, 1.6758255803609023e-06)"
      ]
     },
     "execution_count": 4,
     "metadata": {},
     "output_type": "execute_result"
    }
   ],
   "source": [
    "stat, pval = stats.ttest_rel(datos[:,I_SOLEADO], datos[:,I_LLUVIA], )  \n",
    "stat, pval/2"
   ]
  },
  {
   "cell_type": "markdown",
   "metadata": {
    "deletable": true,
    "editable": true
   },
   "source": [
    "Como el p-valor es muy pequeño y el estadístico es negativo, parecería haber evidencia suficiente para rechazar la hipótesis nula. Con una gran confianza podemos afirmar que los atletas corren más rápido en días soleados que en días lluviosos"
   ]
  },
  {
   "cell_type": "markdown",
   "metadata": {
    "deletable": true,
    "editable": true
   },
   "source": [
    "- El cielo nublado no influye en los tiempos de los atletas.\n",
    "\n",
    "Asumimos que la afirmación se refiere a la comparación con días soleados. Por lo tanto, vamos a comparar los tiempos de los atletas para días soleados y para días nublados usando el mismo test anterior.\n",
    "\n",
    "Nuestra hipótesis nula en este caso será que el cielo nublado no influye en los tiempos de los atletas. Bajo esa hipótesis, el t-estadístico tendría distribución t-student."
   ]
  },
  {
   "cell_type": "code",
   "execution_count": 5,
   "metadata": {
    "collapsed": false,
    "deletable": true,
    "editable": true
   },
   "outputs": [
    {
     "data": {
      "text/plain": [
       "(0.41213824986058739, 0.3440778057802279)"
      ]
     },
     "execution_count": 5,
     "metadata": {},
     "output_type": "execute_result"
    }
   ],
   "source": [
    "stat, pval = stats.ttest_rel(datos[:,I_SOLEADO], datos[:,I_NUBLADO], )  \n",
    "stat, pval/2"
   ]
  },
  {
   "cell_type": "markdown",
   "metadata": {
    "deletable": true,
    "editable": true
   },
   "source": [
    "Al tener un p-valor grande, no podemos descartar la hipótesis nula. Aunque tampoco podemos afirmar que el estado del cielo no tenga influcencia sobre los tiempos de los atletas."
   ]
  },
  {
   "cell_type": "markdown",
   "metadata": {
    "deletable": true,
    "editable": true
   },
   "source": [
    "- La velocidad en dı́as de lluvia es independiente del atleta.\n",
    "\n",
    "Nuestra intuición nos decía que esta hipótesis podía testearse analizando la varianza de la muestra en días de lluvia y concluir, de ser muy baja, que los tiempos son independientes. Sin embargo, resultó errada: una carrera de horas en donde todos los atletas llegan con segundos de diferencia tendría una varianza bajísima, pero eso no da información sobre la independencia entre los tiempos y los atletas.\n",
    "\n",
    "En su lugar, decidimos intentar un test de correlación entre los tiempos de los atletas en días soleados y de lluvia. Si la velocidad en días de lluvia es independiente del atleta, esperamos ver baja correlación.\n",
    "\n",
    "Para esto estamos usando una hipótesis extra, que es que la velocidad en días soleados sí depende del atleta. Para darle mayor solidez a nuestro test, calcularemos también la correlación entre días soleados y días nublados. Esperamos ver que esta correlación sea mucho más fuerte que la anterior, resaltando la diferencia específica entre los días de lluvia y los días sin lluvia.\n",
    "\n",
    "En primer lugar, realizaremos scatter plots de ambas relaciones (es decir, para cada atleta, sus tiempos en día Soleado y Nublado/Lluvioso). Veamos si es posible identificar correlaciones a simple vista."
   ]
  },
  {
   "cell_type": "code",
   "execution_count": 17,
   "metadata": {
    "collapsed": false
   },
   "outputs": [
    {
     "data": {
      "image/png": "[encoded data removed]",
      "text/plain": [
       "<matplotlib.figure.Figure at 0x7f4791255908>"
      ]
     },
     "metadata": {},
     "output_type": "display_data"
    },
    {
     "data": {
      "image/png": "[encoded data removed]",
      "text/plain": [
       "<matplotlib.figure.Figure at 0x7f47911b3fd0>"
      ]
     },
     "metadata": {},
     "output_type": "display_data"
    }
   ],
   "source": [
    "plt.plot(datos[:,I_SOLEADO], datos[:,I_NUBLADO], 'o')\n",
    "plt.show()\n",
    "\n",
    "plt.plot(datos[:,I_SOLEADO], datos[:,I_LLUVIA], 'o')\n",
    "plt.show()"
   ]
  },
  {
   "cell_type": "markdown",
   "metadata": {},
   "source": [
    "En los gráficos podemos observar claramente que hay una tendencia entre los tiempos en días nublados y soleados: atletas más lentos en días soleados, lo son también cuando hay nubes en el cielo. Por otro lado, cuando comparamos contra los días de lluvia, los datos aparecen dispersos. Veamos si, al hacer las cuentas, podemos corroborar nuestro análisis visual."
   ]
  },
  {
   "cell_type": "code",
   "execution_count": 18,
   "metadata": {
    "collapsed": false,
    "deletable": true,
    "editable": true
   },
   "outputs": [
    {
     "name": "stdout",
     "output_type": "stream",
     "text": [
      "rho 0.0525893206142\n",
      "pvalue 0.871057017179\n"
     ]
    }
   ],
   "source": [
    "r, p = stats.pearsonr(datos[:,I_SOLEADO], datos[:,I_LLUVIA])\n",
    "print(\"rho\", r)\n",
    "print(\"pvalue\", p)\n"
   ]
  },
  {
   "cell_type": "code",
   "execution_count": 20,
   "metadata": {
    "collapsed": false,
    "deletable": true,
    "editable": true
   },
   "outputs": [
    {
     "name": "stdout",
     "output_type": "stream",
     "text": [
      "rho 0.990823776756\n",
      "pvalue 5.04564639981e-10\n"
     ]
    }
   ],
   "source": [
    "r, p = stats.pearsonr(datos[:,I_SOLEADO], datos[:,I_NUBLADO])\n",
    "print(\"rho\", r)\n",
    "print(\"pvalue\", p)\n"
   ]
  },
  {
   "cell_type": "markdown",
   "metadata": {
    "deletable": true,
    "editable": true
   },
   "source": [
    "Vemos que la correlación entre el atletas y sus velocidades en días de sol y en días con lluvia es baja. Por el contrario, la correlación es fuerte entre los dos tipos de días sin lluvia. Podemos concluir a raíz de esto que la velocidad en días de lluvia pareciera ser independiente del atleta, aunque harían falta más muestras para darle más fuerza a la hipótesis."
   ]
  },
  {
   "cell_type": "markdown",
   "metadata": {
    "collapsed": true,
    "deletable": true,
    "editable": true
   },
   "source": [
    "- El clima influye en la velocidad de los atletas.\n",
    "\n",
    "La hipótesis así planteada resulta ambigua. Proponemos analizar la hipótesis como \"la lluvia hace que el conjunto de atletas corra más lento\". De confirmarla, estaríamos en condiciones de decir que el clima influye en la velocidad, dado que la lluvia es un posible escenario climático.\n",
    "\n",
    "Como esta pregunta ya la analizamos, proponemos un nuevo test para dirimirla, en este caso uno de permutaciones.\n",
    "\n",
    "\n",
    "\n"
   ]
  },
  {
   "cell_type": "code",
   "execution_count": 73,
   "metadata": {
    "collapsed": false
   },
   "outputs": [
    {
     "data": {
      "image/png": "[encoded data removed]",
      "text/plain": [
       "<matplotlib.figure.Figure at 0x7f479158b390>"
      ]
     },
     "metadata": {},
     "output_type": "display_data"
    },
    {
     "data": {
      "text/plain": [
       "2"
      ]
     },
     "execution_count": 73,
     "metadata": {},
     "output_type": "execute_result"
    }
   ],
   "source": [
    "tiempos_lluvia = datos[:,I_LLUVIA]\n",
    "tiempos_sol = datos[:,I_SOLEADO]\n",
    "diferencia_medias = np.mean(tiempos_lluvia) - np.mean(tiempos_sol)\n",
    "n = len(tiempos_lluvia)\n",
    "todos = np.concatenate((tiempos_lluvia, tiempos_sol))\n",
    "diferencias = []\n",
    "for i in range(2000000):\n",
    "    random.shuffle(todos)\n",
    "    diferencias.append(np.mean(todos[:n]) - np.mean(todos[n:]))\n",
    "    \n",
    "plt.hist(diferencias, bins=25)\n",
    "plt.axvline(x=diferencia_medias)\n",
    "plt.show()\n",
    "\n",
    "np.sum([i >= diferencia_medias for i in diferencias])"
   ]
  },
  {
   "cell_type": "code",
   "execution_count": 74,
   "metadata": {
    "collapsed": false
   },
   "outputs": [
    {
     "data": {
      "text/plain": [
       "1.5e-06"
      ]
     },
     "execution_count": 74,
     "metadata": {},
     "output_type": "execute_result"
    }
   ],
   "source": [
    "p = (np.sum([i >= diferencia_medias for i in diferencias]) + 1) / 2000000\n",
    "p"
   ]
  },
  {
   "cell_type": "markdown",
   "metadata": {},
   "source": [
    "A pesar de usar 2 millones de permutaciones encontramos 2 que dan una diferencia de medias mayor o igual a la que vemos en los datos originales. Esto nos da suficiente confianza para afirmar que la lluvia en particular tiene influencia en los tiempos, y por lo tanto, el clima en general tiene influencia.\n",
    "\n",
    "Es importante notar que esto sucede porque todos los tiempos en día lluvioso son más altos que todos los de día soleado. Por lo tanto, no hay una permutación de etiquetas que tenga una diferencia de medias tan alta como la original. "
   ]
  },
  {
   "cell_type": "markdown",
   "metadata": {},
   "source": [
    "- ¿Qué otra conclusión obtuvo de su análisis?\n",
    "\n",
    "Ninguna."
   ]
  },
  {
   "cell_type": "markdown",
   "metadata": {},
   "source": [
    "- Consejos al Entrenador\n",
    "\n",
    "Los datos provistos nos indican cuán veloz es cada uno de los atletas bajo cada una de las condiciones climáticas. No nos dan ninguna información sobre los efectos de cada tipo de entrenamiento. Por ello, no podemos darle la razón a nadie. \n",
    "\n",
    "Algo que sí podemos decir es que bajo lluvia todos corren de manera similar. Uno podría afirmar que si las competencias se realizan en día lluvioso no necesariamente ganará el más rápido, por lo que prepararse para dicha eventualidad no genera tantos beneficios. Hay que aclarar que esto último es una apreciación subjetiva, no viene dada por los datos.\n",
    "\n",
    "Le diríamos al entrenador que elija a una mitad de los atletas y los entrene incluso en los días lluviosos, mientras que al otro grupo solo los soleados. Luego, midiendo sus velocidades podrá analizar si efectivamente los del primer grupo mejoraron más respecto a los del segundo."
   ]
  },
  {
   "cell_type": "code",
   "execution_count": null,
   "metadata": {
    "collapsed": true
   },
   "outputs": [],
   "source": []
  }
 ],
 "metadata": {
  "kernelspec": {
   "display_name": "Python 3",
   "language": "python",
   "name": "python3"
  },
  "language_info": {
   "codemirror_mode": {
    "name": "ipython",
    "version": 3
   },
   "file_extension": ".py",
   "mimetype": "text/x-python",
   "name": "python",
   "nbconvert_exporter": "python",
   "pygments_lexer": "ipython3",
   "version": "3.5.3"
  }
 },
 "nbformat": 4,
 "nbformat_minor": 2
}
