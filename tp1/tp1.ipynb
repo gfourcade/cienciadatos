{
 "cells": [
  {
   "cell_type": "code",
   "execution_count": 5,
   "metadata": {},
   "outputs": [
    {
     "name": "stdout",
     "output_type": "stream",
     "text": [
      "[[ 11.1  11.3  19.4]\n",
      " [ 13.   12.8  18.2]\n",
      " [ 16.1  16.   19. ]\n",
      " [ 14.5  14.1  18.9]\n",
      " [ 12.   12.5  19.1]\n",
      " [ 11.   11.6  18.7]\n",
      " [ 15.1  14.6  18.9]\n",
      " [ 14.4  14.2  19.9]\n",
      " [ 16.1  16.1  18.5]\n",
      " [ 17.   16.7  19.2]\n",
      " [ 12.2  12.4  18.8]\n",
      " [ 14.4  14.1  19.2]]\n"
     ]
    }
   ],
   "source": [
    "import numpy as np\n",
    "import matplotlib.pyplot as plt\n",
    "import seaborn as sns\n",
    "from scipy import stats\n",
    "\n",
    "datos = np.loadtxt('tiempos.txt', skiprows=1)\n",
    "\n",
    "datos = datos[:,1:]  # Soleado | Nublado | Lluvia\n",
    "datos[6,2] = 18.9    # Corregimos dato mal ingresado.\n",
    "print (datos)\n",
    "\n",
    "I_SOLEADO, I_NUBLADO, I_LLUVIA = range(3)"
   ]
  },
  {
   "cell_type": "code",
   "execution_count": 6,
   "metadata": {
    "scrolled": false
   },
   "outputs": [
    {
     "data": {
      "image/png": "[encoded data removed]",
      "text/plain": [
       "<matplotlib.figure.Figure at 0x7fbb88063f60>"
      ]
     },
     "metadata": {},
     "output_type": "display_data"
    },
    {
     "data": {
      "image/png": "[encoded data removed]",
      "text/plain": [
       "<matplotlib.figure.Figure at 0x7fbb51e0a470>"
      ]
     },
     "metadata": {},
     "output_type": "display_data"
    }
   ],
   "source": [
    "plt.plot(datos, 'o')\n",
    "plt.show()\n",
    "\n",
    "plt.hist(datos)\n",
    "plt.show()"
   ]
  },
  {
   "cell_type": "markdown",
   "metadata": {},
   "source": [
    "### Test de t\n",
    "Los datos vienen de forma |Soleado|Nublado|Lluvia|\n",
    "\n",
    "- Los atletas son más lentos en dı́as de lluvia que en dı́as soleados.\n",
    "\n",
    "Primer Test.\n",
    "Suponemos como hipótesis nula que los tiempos de los atletas tienen menor o igual media si está Lluvioso que si está Soleado"
   ]
  },
  {
   "cell_type": "code",
   "execution_count": 7,
   "metadata": {},
   "outputs": [
    {
     "data": {
      "text/plain": [
       "(-8.576227572594302, 1.6758255803609023e-06)"
      ]
     },
     "execution_count": 7,
     "metadata": {},
     "output_type": "execute_result"
    }
   ],
   "source": [
    "stat, pval = stats.ttest_rel(datos[:,I_SOLEADO], datos[:,I_LLUVIA], )  \n",
    "stat, pval/2"
   ]
  },
  {
   "cell_type": "markdown",
   "metadata": {},
   "source": [
    "Como el p-valor es muy pequeño y el estadístico es negativo, parecería haber evidencia suficiente para rechazar la hipótesis nula. Con una gran confianza podemos afirmar que los atletas en días soleados corren más rápido que en días lluviosos"
   ]
  },
  {
   "cell_type": "markdown",
   "metadata": {},
   "source": [
    "- El cielo nublado no influye en los tiempos de los atletas.\n",
    "\n",
    "Asumimos que la afirmación se refiere a la comparación con días soleados. Por lo tanto, vamos a comparar los tiempos de los atletas para días soleados y para días nublados usando el mismo test anterior.\n",
    "\n",
    "Nuestra hipótesis nula en este caso será que el cielo nublado no influye en los tiempos de los atletas. Bajo esa hipótesis, el t-estadístico tendría distribución t-student."
   ]
  },
  {
   "cell_type": "code",
   "execution_count": 8,
   "metadata": {},
   "outputs": [
    {
     "data": {
      "text/plain": [
       "(0.41213824986058739, 0.3440778057802279)"
      ]
     },
     "execution_count": 8,
     "metadata": {},
     "output_type": "execute_result"
    }
   ],
   "source": [
    "stat, pval = stats.ttest_rel(datos[:,I_SOLEADO], datos[:,I_NUBLADO], )  \n",
    "stat, pval/2"
   ]
  },
  {
   "cell_type": "markdown",
   "metadata": {},
   "source": [
    "Al tener un p-valor relativamente grande, no podemos descartar la hipótesis nula. Aunque tampoco podemos afirmar que el estado del cielo no tenga influcencia sobre los tiempos de los atletas."
   ]
  },
  {
   "cell_type": "markdown",
   "metadata": {},
   "source": [
    "- La velocidad en dı́as de lluvia es independiente del atleta.\n",
    "\n",
    "Nuestra intuición nos decía que esta hipótesis podía testearse analizando la varianza de la muestra en días de lluvia y concluir, de ser muy baja, que los tiempos son independientes. Sin embargo, resultó errada: una carrera de horas en donde todos los atletas llegan con segundos de diferencia tendría una varianza bajísima, pero eso no da información sobre la independencia entre los tiempos y los atletas.\n",
    "\n",
    "En su lugar, decidimos intentar un test de correlación entre los tiempos de los atletas en días soleados y de lluvia. Si la velocidad en días de lluvia es independiente del atleta, esperamos ver baja correlación.\n",
    "\n",
    "Para esto estamos usando una hipótesis extra, que es que la velocidad en días soleados sí depende del atleta. Para darle mayor solidez a nuestro test, calcularemos también la correlación entre días soleados y días nublados. Esperamos ver que esta correlación sea mucho más fuerte que la anterior, resaltando la diferencia específica entre los días de lluvia y los días sin lluvia."
   ]
  },
  {
   "cell_type": "code",
   "execution_count": 9,
   "metadata": {},
   "outputs": [
    {
     "data": {
      "text/plain": [
       "(0.052589320614219302, 0.87105701717912176)"
      ]
     },
     "execution_count": 9,
     "metadata": {},
     "output_type": "execute_result"
    }
   ],
   "source": [
    "r, p = stats.pearsonr(datos[:,I_SOLEADO], datos[:,I_LLUVIA])\n",
    "r, p"
   ]
  },
  {
   "cell_type": "code",
   "execution_count": 10,
   "metadata": {},
   "outputs": [
    {
     "data": {
      "text/plain": [
       "(0.99082377675574329, 5.0456463998066068e-10)"
      ]
     },
     "execution_count": 10,
     "metadata": {},
     "output_type": "execute_result"
    }
   ],
   "source": [
    "r, p = stats.pearsonr(datos[:,I_SOLEADO], datos[:,I_NUBLADO])\n",
    "r, p"
   ]
  },
  {
   "cell_type": "markdown",
   "metadata": {},
   "source": [
    "Vemos que la correlación entre el atletas y sus velocidades en días de sol y en días con lluvia es baja. Por el contrario, la correlación es fuerte entre los dos tipos de días sin lluvia. Podemos concluir a raíz de esto que la velocidad en días de lluvia pareciera ser independiente del atleta, aunque más muestras harían falta para darle más fuerza a la hipótesis."
   ]
  },
  {
   "cell_type": "code",
   "execution_count": null,
   "metadata": {
    "collapsed": true
   },
   "outputs": [],
   "source": []
  }
 ],
 "metadata": {
  "kernelspec": {
   "display_name": "Python 3",
   "language": "python",
   "name": "python3"
  },
  "language_info": {
   "codemirror_mode": {
    "name": "ipython",
    "version": 3
   },
   "file_extension": ".py",
   "mimetype": "text/x-python",
   "name": "python",
   "nbconvert_exporter": "python",
   "pygments_lexer": "ipython3",
   "version": "3.4.5"
  }
 },
 "nbformat": 4,
 "nbformat_minor": 2
}
